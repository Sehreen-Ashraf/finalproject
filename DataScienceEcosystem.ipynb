{
 "cells": [
  {
   "cell_type": "markdown",
   "id": "009c9d9c-812e-4d94-bee2-802cdcabcfb1",
   "metadata": {},
   "source": [
    "# Data Science Tools and Ecosystem"
   ]
  },
  {
   "cell_type": "markdown",
   "id": "b2e5d8ca-89ca-49c9-b21a-d9afe002a19c",
   "metadata": {},
   "source": [
    "In this notebook, Data Science Tools and Ecosystem are summarized."
   ]
  },
  {
   "cell_type": "markdown",
   "id": "3a3aa637-94b3-4e86-af00-98bf5185c144",
   "metadata": {},
   "source": [
    "**Objectives**\n",
    "* Popular languages for Data Science\n",
    "* Commonly used libraries\n",
    "* Data science tool\n",
    "* Arithmetic conversions"
   ]
  },
  {
   "cell_type": "markdown",
   "id": "de15dbc7-44ed-4983-9f4b-3dbe68a3d878",
   "metadata": {},
   "source": [
    "## Author\n",
    "Sehreen Ashra"
   ]
  },
  {
   "cell_type": "markdown",
   "id": "0b1625be-846a-4b33-a693-a55b071eac5a",
   "metadata": {},
   "source": [
    "Some of the popular languages that Data Scientists use are:\n",
    "1. Python\n",
    "2. SQL\n",
    "3. Java"
   ]
  },
  {
   "cell_type": "markdown",
   "id": "2b75e0dd-8490-4cc6-be18-7845de812082",
   "metadata": {},
   "source": [
    "Some of the commonly used libraries used by Data Scientists include:\n",
    "1. Pandas\n",
    "2. NumPy\n",
    "3. TensorFlow"
   ]
  },
  {
   "cell_type": "markdown",
   "id": "465b502d-3f08-4369-8ca8-8fb9fb8e6a20",
   "metadata": {},
   "source": [
    "| Data Science Tools |\n",
    "| ---|\n",
    "|Jupiter Notebook |\n",
    "|R Studio |\n",
    "| Github |"
   ]
  },
  {
   "cell_type": "markdown",
   "id": "7f984078-6df4-485b-a8b6-ce1098396a78",
   "metadata": {},
   "source": [
    "### Below are a few examples of evaluating arithmetic expressions in Python"
   ]
  },
  {
   "cell_type": "code",
   "execution_count": 2,
   "id": "d3ece99b-0930-4152-ba14-7039f8467eb2",
   "metadata": {
    "tags": []
   },
   "outputs": [
    {
     "data": {
      "text/plain": [
       "17"
      ]
     },
     "execution_count": 2,
     "metadata": {},
     "output_type": "execute_result"
    }
   ],
   "source": [
    "# This a simple arithmetic expression to mutiply then add integers\n",
    "(3*4)+5"
   ]
  },
  {
   "cell_type": "code",
   "execution_count": 3,
   "id": "6e8fe238-67c0-40fb-a605-81eb9839c538",
   "metadata": {
    "tags": []
   },
   "outputs": [
    {
     "data": {
      "text/plain": [
       "3.3333333333333335"
      ]
     },
     "execution_count": 3,
     "metadata": {},
     "output_type": "execute_result"
    }
   ],
   "source": [
    "# This will convert 200 minutes to hours by diving by 60\n",
    "200/60"
   ]
  },
  {
   "cell_type": "code",
   "execution_count": null,
   "id": "f9ccfeb4-21d9-43fb-8138-9d51c1009346",
   "metadata": {},
   "outputs": [],
   "source": []
  }
 ],
 "metadata": {
  "kernelspec": {
   "display_name": "Python",
   "language": "python",
   "name": "conda-env-python-py"
  },
  "language_info": {
   "codemirror_mode": {
    "name": "ipython",
    "version": 3
   },
   "file_extension": ".py",
   "mimetype": "text/x-python",
   "name": "python",
   "nbconvert_exporter": "python",
   "pygments_lexer": "ipython3",
   "version": "3.7.12"
  }
 },
 "nbformat": 4,
 "nbformat_minor": 5
}
